{
 "cells": [
  {
   "cell_type": "markdown",
   "metadata": {},
   "source": [
    "<h1 style=\"color:DodgerBlue\">Sprint #0. Task2.  Основные понятие ООП</h1>\n",
    "\n",
    "Объектно-ориентированное программирование (ООП) в C# включает в себя несколько ключевых концепций, которые помогают структурировать программы и улучшить их читаемость, поддерживаемость и расширяемость. Давайте рассмотрим каждую из этих концепций подробнее."
   ]
  },
  {
   "cell_type": "markdown",
   "metadata": {},
   "source": [
    "<h2 style=\"color:DodgerBlue\">1. Классы и Объекты</h2>\n",
    "Классы в C# - это шаблоны для создания объектов. Они определяют набор свойств (данных) и методов (действий), которые могут выполнять эти объекты. Объекты создаются по этим шаблонам и представляют собой экземпляры классов.\n",
    "\n",
    "<h3 style=\"color:DodgerBlue\">Пример:</h3>\n",
    "\n",
    "\n",
    "```csharp\n",
    "// Создание класса\n",
    "class Vehicle\n",
    "{\n",
    "\n",
    "}\n",
    "\n",
    "// Основная программа\n",
    "Vehicle Car = new Vehicle(); // Создание объекта\n",
    "```\n",
    "\n",
    "<h4 style=\"color:DodgerBlue\">Для проверки напишите ниже код ниже в блоке:</h4>\n",
    "\n",
    "----"
   ]
  },
  {
   "cell_type": "code",
   "execution_count": null,
   "metadata": {
    "dotnet_interactive": {
     "language": "csharp"
    },
    "polyglot_notebook": {
     "kernelName": "csharp"
    }
   },
   "outputs": [],
   "source": []
  },
  {
   "cell_type": "markdown",
   "metadata": {},
   "source": [
    "<h4 style=\"color:Red\">Задание:</h4>\n",
    "\n",
    "----\n",
    "\n",
    "Ниже в блоке по примеру создайте класс Animal\n",
    "\n"
   ]
  },
  {
   "cell_type": "code",
   "execution_count": null,
   "metadata": {
    "dotnet_interactive": {
     "language": "csharp"
    },
    "polyglot_notebook": {
     "kernelName": "csharp"
    }
   },
   "outputs": [],
   "source": []
  },
  {
   "cell_type": "markdown",
   "metadata": {},
   "source": [
    "<h2 style=\"color:DodgerBlue\">2. Инкапсуляция</h2>\n",
    "\n",
    "Инкапсуляция - это процесс скрытия деталей реализации класса от пользователя. В C#, инкапсуляция достигается за счет использования модификаторов доступа (`public`, `private`, `protected`), а также свойства и методы для управления доступом к данным объекта.\n",
    "\n",
    "```csharp\n",
    "// Создание класса\n",
    "class Vehicle\n",
    "{\n",
    "    private string color; // Приватное поле\n",
    "\n",
    "    public string Color // Свойство с геттером и сеттером\n",
    "    {\n",
    "        get { return color; }\n",
    "        set { color = value; }\n",
    "    }\n",
    "\n",
    "    public void StartEngine() // Публичный метод\n",
    "    {\n",
    "        Console.WriteLine(\"Запустить двигатель...\");\n",
    "    }\n",
    "}\n",
    "\n",
    "// Основная программа\n",
    "Vehicle Car = new Vehicle(); // Создание объекта\n",
    "Car.Color = \"Красный\";\n",
    "\n",
    "```\n",
    "\n",
    "<h4 style=\"color:DodgerBlue\">Для проверки напишите ниже код:</h4>\n",
    "\n",
    "----\n"
   ]
  },
  {
   "cell_type": "code",
   "execution_count": null,
   "metadata": {
    "dotnet_interactive": {
     "language": "csharp"
    },
    "polyglot_notebook": {
     "kernelName": "csharp"
    }
   },
   "outputs": [],
   "source": []
  },
  {
   "cell_type": "markdown",
   "metadata": {},
   "source": [
    "<h4 style=\"color:Red\">Задание:</h4>\n",
    "\n",
    "----\n",
    "\n",
    "Ниже в блоке по примеру создайте класс Animal и реализуйте инкапсуляцию "
   ]
  },
  {
   "cell_type": "code",
   "execution_count": null,
   "metadata": {
    "dotnet_interactive": {
     "language": "csharp"
    },
    "polyglot_notebook": {
     "kernelName": "csharp"
    }
   },
   "outputs": [],
   "source": []
  },
  {
   "cell_type": "markdown",
   "metadata": {},
   "source": [
    "<h2 style=\"color:DodgerBlue\">3. Наследование</h2>\n",
    "\n",
    "Наследование позволяет создавать новые классы на основе существующих, наследуя их свойства и методы. Это упрощает повторное использование кода и расширение функциональности.\n",
    "\n",
    "```csharp\n",
    "\n",
    "class Vehicle\n",
    "{\n",
    "    public virtual void Move()\n",
    "    {\n",
    "        Console.WriteLine(\"The vehicle moves\");\n",
    "    }\n",
    "}\n",
    "\n",
    "class Car : Vehicle\n",
    "{\n",
    "    public override void Move()\n",
    "    {\n",
    "        base.Move(); // Вызов метода базового класса\n",
    "        Console.WriteLine(\"The car drives\");\n",
    "    }\n",
    "}\n",
    "\n",
    "```\n",
    "\n",
    "<h4 style=\"color:DodgerBlue\">Для проверки напишите ниже код:</h4>\n",
    "\n",
    "----"
   ]
  },
  {
   "cell_type": "code",
   "execution_count": null,
   "metadata": {
    "dotnet_interactive": {
     "language": "csharp"
    },
    "polyglot_notebook": {
     "kernelName": "csharp"
    }
   },
   "outputs": [],
   "source": []
  },
  {
   "cell_type": "markdown",
   "metadata": {},
   "source": [
    "<h4 style=\"color:Red\">Задание:</h4>\n",
    "\n",
    "----\n",
    "\n",
    "Ниже в блоке по примеру создайте класс Animal и реализуйте наследование "
   ]
  },
  {
   "cell_type": "code",
   "execution_count": null,
   "metadata": {
    "dotnet_interactive": {
     "language": "csharp"
    },
    "polyglot_notebook": {
     "kernelName": "csharp"
    }
   },
   "outputs": [],
   "source": []
  },
  {
   "cell_type": "markdown",
   "metadata": {},
   "source": [
    "<h2 style=\"color:DodgerBlue\">4. Полиморфизм</h2>\n",
    "\n",
    "Полиморфизм позволяет использовать один интерфейс для различных типов данных. В C# это достигается через переопределение методов и перегрузку методов и операторов.\n",
    "Метод Move() может быть переопределен в классе Car для выполнения специфической для автомобилей логики:\n",
    "\n",
    "```csharp\n",
    "class Truck : Vehicle\n",
    "{\n",
    "    public void Move()\n",
    "    {\n",
    "        Console.WriteLine($\"{Brand} is driving slowly\");\n",
    "    }\n",
    "}\n",
    "\n",
    "Truck myTruck = new Truck();\n",
    "myTruck.Brand = \"Ford\";\n",
    "myTruck.Move(); // Ford is driving slowly\n",
    "```\n",
    "\n",
    "<h4 style=\"color:DodgerBlue\">Для проверки напишите ниже код:</h4>\n",
    "\n",
    "----"
   ]
  },
  {
   "cell_type": "code",
   "execution_count": null,
   "metadata": {
    "dotnet_interactive": {
     "language": "csharp"
    },
    "polyglot_notebook": {
     "kernelName": "csharp"
    }
   },
   "outputs": [],
   "source": []
  },
  {
   "cell_type": "markdown",
   "metadata": {},
   "source": [
    "<h4 style=\"color:Red\">Задание:</h4>\n",
    "\n",
    "----\n",
    "\n",
    "Ниже в блоке по примеру создайте класс Animal и реализуйте полиморфизм "
   ]
  },
  {
   "cell_type": "code",
   "execution_count": null,
   "metadata": {
    "dotnet_interactive": {
     "language": "csharp"
    },
    "polyglot_notebook": {
     "kernelName": "csharp"
    }
   },
   "outputs": [],
   "source": []
  },
  {
   "cell_type": "markdown",
   "metadata": {},
   "source": [
    "<h2 style=\"color:DodgerBlue\">5. Абстракция</h2>\n",
    "\n",
    "Если бы у нас был класс ElectricCar, который должен иметь некоторые уникальные методы, мы могли бы определить абстрактный класс Car с абстрактными методами, обязательными для реализации в производных классах:\n",
    "\n",
    "```csharp\n",
    "\n",
    "abstract class Car\n",
    "{\n",
    "    public abstract void ChargeBattery();\n",
    "\n",
    "    public void Move()\n",
    "    {\n",
    "        Console.WriteLine($\"{Brand} is moving\");\n",
    "    }\n",
    "}\n",
    "\n",
    "class ElectricCar : Car\n",
    "{\n",
    "    public override void ChargeBattery()\n",
    "    {\n",
    "        Console.WriteLine(\"Charging battery...\");\n",
    "    }\n",
    "}\n",
    "\n",
    "```\n",
    "\n",
    "<h4 style=\"color:DodgerBlue\">Для проверки напишите ниже код:</h4>\n",
    "\n",
    "----"
   ]
  },
  {
   "cell_type": "code",
   "execution_count": null,
   "metadata": {
    "dotnet_interactive": {
     "language": "csharp"
    },
    "polyglot_notebook": {
     "kernelName": "csharp"
    }
   },
   "outputs": [],
   "source": []
  },
  {
   "cell_type": "markdown",
   "metadata": {},
   "source": [
    "<h4 style=\"color:Red\">Задание:</h4>\n",
    "\n",
    "----\n",
    "\n",
    "Ниже в блоке по примеру создайте класс Animal и реализуйте абстракцию "
   ]
  },
  {
   "cell_type": "code",
   "execution_count": null,
   "metadata": {
    "dotnet_interactive": {
     "language": "csharp"
    },
    "polyglot_notebook": {
     "kernelName": "csharp"
    }
   },
   "outputs": [],
   "source": []
  },
  {
   "cell_type": "markdown",
   "metadata": {},
   "source": [
    "<h2 style=\"color:DodgerBlue\">6. Композиция и Агрегация</h2>\n",
    "\n",
    "Для демонстрации композиции предположим, что у нас есть класс Engine, который является составной частью класса Car:\n",
    "\n",
    "```csharp\n",
    "class Engine\n",
    "{\n",
    "    public void Start()\n",
    "    {\n",
    "        Console.WriteLine(\"Engine started\");\n",
    "    }\n",
    "}\n",
    "\n",
    "class Car\n",
    "{\n",
    "    private Engine engine; // Композиция\n",
    "\n",
    "    public Car()\n",
    "    {\n",
    "        engine = new Engine();\n",
    "    }\n",
    "\n",
    "    public void Drive()\n",
    "    {\n",
    "        engine.Start();\n",
    "    }\n",
    "}\n",
    "\n",
    "```\n",
    "В этом примере класс Car агрегирует или использует класс Engine, но не зависит от него напрямую, что отличает агрегацию от композиции.\n",
    "\n",
    "Эти примеры демонстрируют, как можно применять ключевые концепции ООП в C# для создания модульных, гибких и легко поддерживаемых приложений.\n",
    "\n",
    "\n",
    "<h4 style=\"color:DodgerBlue\">Для проверки напишите ниже код:</h4>\n",
    "\n",
    "----"
   ]
  },
  {
   "cell_type": "code",
   "execution_count": null,
   "metadata": {
    "dotnet_interactive": {
     "language": "csharp"
    },
    "polyglot_notebook": {
     "kernelName": "csharp"
    }
   },
   "outputs": [],
   "source": []
  },
  {
   "cell_type": "markdown",
   "metadata": {},
   "source": [
    "<h4 style=\"color:Red\">Задание:</h4>\n",
    "\n",
    "----\n",
    "\n",
    "Ниже в блоке по примеру создайте класс Animal и реализуйте композицию "
   ]
  },
  {
   "cell_type": "code",
   "execution_count": null,
   "metadata": {
    "dotnet_interactive": {
     "language": "csharp"
    },
    "polyglot_notebook": {
     "kernelName": "csharp"
    }
   },
   "outputs": [],
   "source": []
  }
 ],
 "metadata": {
  "kernelspec": {
   "display_name": ".NET (C#)",
   "language": "C#",
   "name": ".net-csharp"
  },
  "polyglot_notebook": {
   "kernelInfo": {
    "defaultKernelName": "csharp",
    "items": [
     {
      "aliases": [],
      "languageName": "csharp",
      "name": "csharp"
     }
    ]
   }
  }
 },
 "nbformat": 4,
 "nbformat_minor": 2
}
